{
  "nbformat": 4,
  "nbformat_minor": 0,
  "metadata": {
    "colab": {
      "provenance": []
    },
    "kernelspec": {
      "name": "python3",
      "display_name": "Python 3"
    },
    "language_info": {
      "name": "python"
    }
  },
  "cells": [
    {
      "cell_type": "markdown",
      "source": [
        "Data Types and Structures Questions"
      ],
      "metadata": {
        "id": "XKXjQdKu84xe"
      }
    },
    {
      "cell_type": "markdown",
      "source": [
        "Q1.What are data structures, and why are they important?\n"
      ],
      "metadata": {
        "id": "ITnx9JPj9Orl"
      }
    },
    {
      "cell_type": "markdown",
      "source": [
        "ANS_1.**DATA STRUCTURE** - HELP US TO ORGANIZE THE DATA , MANIPULATE THE DATA , STORE THE DATA AND ACCESSED AND MODIFIED ACCORDING TO THE USER.\n",
        "\n",
        "WITH THE HELP OF DATA STRUCTURE WE CAN MAMIPULATED , ARRANGED AND ACCESSED THE DATA INTO MEMORY BLOCKS."
      ],
      "metadata": {
        "id": "rcUIWLnn9aOj"
      }
    },
    {
      "cell_type": "markdown",
      "source": [
        "Q2.Explain the difference between mutable and immutable data types with examples?\n"
      ],
      "metadata": {
        "id": "FUdSENAP-281"
      }
    },
    {
      "cell_type": "markdown",
      "source": [
        "ANS_2. **MUTABLE**- MUTABLE MEAN WE CAN CHANGE THE DATA OF SOME DATA STRUCTURE LIKE -LIST , SET  , DICT\n",
        "\n",
        "**IMMUTABLE**- CAN NOT CHANGE THE DATA LIKE- TUPLE ,STRING"
      ],
      "metadata": {
        "id": "FXRx2ge9-9gt"
      }
    },
    {
      "cell_type": "markdown",
      "source": [
        "Q3.What are the main differences between lists and tuples in Python?"
      ],
      "metadata": {
        "id": "HFUiyvxvAbCw"
      }
    },
    {
      "cell_type": "markdown",
      "source": [
        "ANS_3. **LIST**- LISTS ARE MUTABLE, LIST CAN STORE ANY TYPE OF ELEMENTS. YOU CAN USE THIS WHEN YOU STORE MULTILE TYPES OF DATA.\n",
        "SYNTAX-[]\n",
        "**TUPLE**- TUPLES ARE IMMUTABLE ,WE CAN ALSO USE THIS TO STORE THE DATA. MOSTLY WE USE TUPLES WHEN WE NEED TO STORE SOME SPECIFIC AND FIXED DATA. WHEN CAN USE TUPLES AS KEY VALUE ALSO.\\\n",
        "SYNTAX=-()"
      ],
      "metadata": {
        "id": "hH0lYqsbQLlz"
      }
    },
    {
      "cell_type": "markdown",
      "source": [
        "Q4.P Describe how dictionaries store data?\n"
      ],
      "metadata": {
        "id": "yfrkNBc69vng"
      }
    },
    {
      "cell_type": "markdown",
      "source": [
        "ANS_4.**DICTIONARY**- WE CAN ALSO USE DICTIONARY TO STORE THE DATA,\n",
        "DICT HAS A KEY VALUES AND IT'S MUTABLE AND UNORDERED.\n",
        "SYNTAX- d={KEY:VALUE}"
      ],
      "metadata": {
        "id": "2RhL45Zn-gRk"
      }
    },
    {
      "cell_type": "markdown",
      "source": [
        "Q5. Why might you use a set instead of a list in Python?\n"
      ],
      "metadata": {
        "id": "0VPyHoW-_hAC"
      }
    },
    {
      "cell_type": "markdown",
      "source": [
        "ANS_5.YES , THIS MIGHT BE POSSIBLE BECAUSE SETS ARE NOT ALLOWED THE  REPETED VALUES ."
      ],
      "metadata": {
        "id": "jHabbBKv_nvh"
      }
    },
    {
      "cell_type": "markdown",
      "source": [
        "Q.6 What is a string in Python, and how is it different from a list?\n"
      ],
      "metadata": {
        "id": "YAlyIwLLETgS"
      }
    },
    {
      "cell_type": "markdown",
      "source": [
        "ANS_6.BOTH ARE DIFFERENT, STRING STORES ONLY CHARACTERS, BUT THE LIST CAN STORES ANY DATA TYPES.\n",
        "STRING CAN NOT BE CHANGED BUT LIST CAN BE CHANGED.\n",
        "\n",
        "SYNTAX OF LIST - []\n",
        "SYNTAX OF STRING - \"\""
      ],
      "metadata": {
        "id": "CxJ9fLMQEaLr"
      }
    },
    {
      "cell_type": "markdown",
      "source": [
        "Q7. How do tuples ensure data integrity in Python?\n"
      ],
      "metadata": {
        "id": "WsBzXqUMGbI6"
      }
    },
    {
      "cell_type": "markdown",
      "source": [
        "ANS_7.Tuples ensure data intigrity because tuples are immutable it's mean once they created so , it never change.\n",
        "so , its provide you the safety guard."
      ],
      "metadata": {
        "id": "R81mgiqjGhtf"
      }
    },
    {
      "cell_type": "markdown",
      "source": [
        "Q8. What is a hash table, and how does it relate to dictionaries in Python?\n",
        "\n"
      ],
      "metadata": {
        "id": "MayDVrsQmp01"
      }
    },
    {
      "cell_type": "markdown",
      "source": [
        "ANS_8.**Hash Table**- It's use in dict for store and retrieve the data from the dict.\n",
        "Ex- d={\"pw\": \"da\"}\n"
      ],
      "metadata": {
        "id": "JTgW7BC_myZ4"
      }
    },
    {
      "cell_type": "markdown",
      "source": [
        "Q9.Can lists contain different data types in Python?\n"
      ],
      "metadata": {
        "id": "K198UVZmo1WJ"
      }
    },
    {
      "cell_type": "markdown",
      "source": [
        "ANS_9.Yes , list can store any data types , you can say that the list is Heterogenous.\n",
        "Ex-[ True , \"pw\" , 1, 32.5 , [1,2] , {\"pw\": \"ds\"} ]"
      ],
      "metadata": {
        "id": "R3UqUFqGo81f"
      }
    },
    {
      "cell_type": "markdown",
      "source": [
        "Q10.Explain why strings are immutable in Python?"
      ],
      "metadata": {
        "id": "k3OneaZtrn90"
      }
    },
    {
      "cell_type": "markdown",
      "source": [
        "ANS_10.In Python, strings are immutable, meaning once a string is created, it cannot be changed — any operation that modifies a string actually creates a new one."
      ],
      "metadata": {
        "id": "rmydXRlvrskR"
      }
    },
    {
      "cell_type": "markdown",
      "source": [
        "Q11.What advantages do dictionaries offer over lists for certain tasks?"
      ],
      "metadata": {
        "id": "xOWlmqI6stWd"
      }
    },
    {
      "cell_type": "markdown",
      "source": [
        "ANS_11. Dictionarie have unique values as a form of Keys and they allow to store data in unique way and dictionary has HASH Table , we can manage , add , delete the data according to the user need."
      ],
      "metadata": {
        "id": "2eQEutNPs1q0"
      }
    },
    {
      "cell_type": "markdown",
      "source": [
        "Q.12 Describe a scenario where using a tuple would be preferable over a list?"
      ],
      "metadata": {
        "id": "XJYyx2-VA60o"
      }
    },
    {
      "cell_type": "markdown",
      "source": [
        "ANS_12. User can use tuple where they need to store and manage the fixed data so , we can use tuple in the place of list."
      ],
      "metadata": {
        "id": "uhBgcTSOBDRZ"
      }
    },
    {
      "cell_type": "markdown",
      "source": [
        "Q.13 How do sets handle duplicate values in Python?"
      ],
      "metadata": {
        "id": "r9cq-Fk3CvMm"
      }
    },
    {
      "cell_type": "markdown",
      "source": [
        "ANS_13.Sets remove the duplicate values and shows only original values."
      ],
      "metadata": {
        "id": "ItedhaTkC3Qi"
      }
    },
    {
      "cell_type": "markdown",
      "source": [
        "Q.14 How does the “in” keyword work differently for lists and dictionaries?"
      ],
      "metadata": {
        "id": "ajoBSc9lFaht"
      }
    },
    {
      "cell_type": "markdown",
      "source": [
        "ANS_14. \"in\" keyword use for list - for verify the element , if the element in the list so the output is \"True\" but if not so the output is \"False\"\n",
        "\n",
        "\"in\" keyword use for Dictionaries - for verify the key values , so if the key value in the dict so it gives \"True otherwise \"False\""
      ],
      "metadata": {
        "id": "CDOUbZMvFiD_"
      }
    },
    {
      "cell_type": "markdown",
      "source": [
        "Q.15 Can you modify the elements of a tuple? Explain why or why not?"
      ],
      "metadata": {
        "id": "YJ2VVWkMIRWb"
      }
    },
    {
      "cell_type": "markdown",
      "source": [
        "ANS_15. No, we can not modify the elements of a tuple because tuples are immutable."
      ],
      "metadata": {
        "id": "z0Oyx3TGIvpR"
      }
    },
    {
      "cell_type": "markdown",
      "source": [
        "Q.16 What is a nested dictionary, and give an example of its use case?"
      ],
      "metadata": {
        "id": "jZgl5bg-Iw2U"
      }
    },
    {
      "cell_type": "markdown",
      "source": [
        "ANS_16. A dict is in the another dict that allow the hierarchical data."
      ],
      "metadata": {
        "id": "8e9b2U0nI7FM"
      }
    },
    {
      "cell_type": "markdown",
      "source": [
        "Q.17 Describe the time complexity of accessing elements in a dictionary?"
      ],
      "metadata": {
        "id": "eeHTmR0BKw21"
      }
    },
    {
      "cell_type": "markdown",
      "source": [
        "ANS_17. ython, dictionaries are implemented using hash tables, which makes element access very efficient.\n",
        "\n",
        "Access by key is done in constant time (on average)."
      ],
      "metadata": {
        "id": "M7RuD0OMK3VP"
      }
    },
    {
      "cell_type": "markdown",
      "source": [
        "Q18.In what situations are lists preferred over dictionaries?"
      ],
      "metadata": {
        "id": "906mZLhcTvAz"
      }
    },
    {
      "cell_type": "markdown",
      "source": [
        "ANS_18.Although dictionaries are powerful for key-value storage, lists are the better choice in certain situations — especially when order and sequence matter.\n",
        "\n",
        "if the sitution demanding the order  and sequence so better choice to list apart of dict"
      ],
      "metadata": {
        "id": "QKvtTZl7UPLp"
      }
    },
    {
      "cell_type": "markdown",
      "source": [
        "Q19.Why are dictionaries considered unordered, and how does that affect data retrieval?"
      ],
      "metadata": {
        "id": "8jPQaePLVyyb"
      }
    },
    {
      "cell_type": "markdown",
      "source": [
        "ANS_19.Not anymore in Python 3.7+. They're now ordered, meaning:\n",
        "You can retrieve items in insertion order.\n",
        "But: They are still key-based, not index-based — you can’t access items by position like a list."
      ],
      "metadata": {
        "id": "B84anB2XWjqL"
      }
    },
    {
      "cell_type": "markdown",
      "source": [
        "Q20.Explain the difference between a list and a dictionary in terms of data retrieval?"
      ],
      "metadata": {
        "id": "bexfloMcW49V"
      }
    },
    {
      "cell_type": "markdown",
      "source": [
        "ANS_20.A list is an ordered collection of elements.\n",
        "\n",
        "You retrieve items using integer indices (starting from 0)."
      ],
      "metadata": {
        "id": "_bilXtqNXGn9"
      }
    },
    {
      "cell_type": "markdown",
      "source": [
        "#Practical Questions"
      ],
      "metadata": {
        "id": "CA4gejYqYlxb"
      }
    },
    {
      "cell_type": "markdown",
      "source": [
        "Q1.Write a code to create a string with your name and print it?\n"
      ],
      "metadata": {
        "id": "QvyD8rbxYskv"
      }
    },
    {
      "cell_type": "code",
      "source": [],
      "metadata": {
        "id": "0K4LNxVPZ8BW"
      },
      "execution_count": null,
      "outputs": []
    },
    {
      "cell_type": "code",
      "source": [],
      "metadata": {
        "id": "GU68HDXJZ76R"
      },
      "execution_count": null,
      "outputs": []
    },
    {
      "cell_type": "code",
      "source": [
        "s=(\"Urvashi Varshney\")\n",
        "s\n"
      ],
      "metadata": {
        "colab": {
          "base_uri": "https://localhost:8080/",
          "height": 36
        },
        "id": "3SJgNUwQYy-j",
        "outputId": "57887d0c-addf-4a69-a60f-5a69018accf5"
      },
      "execution_count": 4,
      "outputs": [
        {
          "output_type": "execute_result",
          "data": {
            "text/plain": [
              "'Urvashi Varshney'"
            ],
            "application/vnd.google.colaboratory.intrinsic+json": {
              "type": "string"
            }
          },
          "metadata": {},
          "execution_count": 4
        }
      ]
    },
    {
      "cell_type": "markdown",
      "source": [
        "Q2.Write a code to find the length of the string \"Hello World\"?"
      ],
      "metadata": {
        "id": "agfEPUhLZKV-"
      }
    },
    {
      "cell_type": "code",
      "source": [
        "s=(\"Hello World\")\n",
        "len(s)"
      ],
      "metadata": {
        "colab": {
          "base_uri": "https://localhost:8080/"
        },
        "id": "XWl6K82jZPoG",
        "outputId": "46ab5c02-badd-44e0-bcfa-f33281d9fade"
      },
      "execution_count": 5,
      "outputs": [
        {
          "output_type": "execute_result",
          "data": {
            "text/plain": [
              "11"
            ]
          },
          "metadata": {},
          "execution_count": 5
        }
      ]
    },
    {
      "cell_type": "markdown",
      "source": [
        "Q3.Write a code to slice the first 3 characters from the string \"Python Programming?"
      ],
      "metadata": {
        "id": "StYHNlPQaZMd"
      }
    },
    {
      "cell_type": "code",
      "source": [
        "s=(\"Python Programming\")\n",
        "s[0:3]"
      ],
      "metadata": {
        "colab": {
          "base_uri": "https://localhost:8080/",
          "height": 36
        },
        "id": "afwImDn0aiu6",
        "outputId": "1f0ebc3e-cd1c-4cee-cf94-955513a104e4"
      },
      "execution_count": 6,
      "outputs": [
        {
          "output_type": "execute_result",
          "data": {
            "text/plain": [
              "'Pyt'"
            ],
            "application/vnd.google.colaboratory.intrinsic+json": {
              "type": "string"
            }
          },
          "metadata": {},
          "execution_count": 6
        }
      ]
    },
    {
      "cell_type": "markdown",
      "source": [
        "Q4.Write a code to convert the string \"hello\" to uppercase?"
      ],
      "metadata": {
        "id": "-9e4Mp4IasQp"
      }
    },
    {
      "cell_type": "code",
      "source": [
        "s=(\"hello\")\n",
        "s.upper()"
      ],
      "metadata": {
        "colab": {
          "base_uri": "https://localhost:8080/",
          "height": 36
        },
        "id": "jSEq1xSPayqA",
        "outputId": "0e714c00-dd51-4abe-b32e-156e8bd5279a"
      },
      "execution_count": 9,
      "outputs": [
        {
          "output_type": "execute_result",
          "data": {
            "text/plain": [
              "'HELLO'"
            ],
            "application/vnd.google.colaboratory.intrinsic+json": {
              "type": "string"
            }
          },
          "metadata": {},
          "execution_count": 9
        }
      ]
    },
    {
      "cell_type": "markdown",
      "source": [
        "Q5.Write a code to replace the word \"apple\" with \"orange\" in the string \"I like apple\"?"
      ],
      "metadata": {
        "id": "BlXsCFo7bFiu"
      }
    },
    {
      "cell_type": "code",
      "source": [
        "s=(\"I like apple\")\n",
        "s.replace(\"apple\" , \"orange\")"
      ],
      "metadata": {
        "colab": {
          "base_uri": "https://localhost:8080/",
          "height": 36
        },
        "id": "_4yGUCmxbMJT",
        "outputId": "049ca302-8179-4ea3-f013-36e537b28962"
      },
      "execution_count": 11,
      "outputs": [
        {
          "output_type": "execute_result",
          "data": {
            "text/plain": [
              "'I like orange'"
            ],
            "application/vnd.google.colaboratory.intrinsic+json": {
              "type": "string"
            }
          },
          "metadata": {},
          "execution_count": 11
        }
      ]
    },
    {
      "cell_type": "markdown",
      "source": [
        "Q6. Write a code to create a list with numbers 1 to 5 and print it?"
      ],
      "metadata": {
        "id": "7swW6K3Tb1_q"
      }
    },
    {
      "cell_type": "code",
      "source": [
        "l=[1,2,3,4,5]\n",
        "l.append(1)\n",
        "l.append(2)\n",
        "l.append(3)\n",
        "l.append(4)\n",
        "l.append(5)\n",
        "l"
      ],
      "metadata": {
        "colab": {
          "base_uri": "https://localhost:8080/"
        },
        "id": "DqRTmtLHb6c4",
        "outputId": "2cb9ccfe-f3ae-4775-e162-7baa8b16291c"
      },
      "execution_count": 17,
      "outputs": [
        {
          "output_type": "execute_result",
          "data": {
            "text/plain": [
              "[1, 2, 3, 4, 5]"
            ]
          },
          "metadata": {},
          "execution_count": 17
        }
      ]
    },
    {
      "cell_type": "markdown",
      "source": [
        "Q7.Write a code to append the number 10 to the list [1, 2, 3, 4]?"
      ],
      "metadata": {
        "id": "W666MKmuc6mp"
      }
    },
    {
      "cell_type": "code",
      "source": [
        "l=[1,2,3,4]\n",
        "l.append(10)\n",
        "l"
      ],
      "metadata": {
        "colab": {
          "base_uri": "https://localhost:8080/"
        },
        "id": "Q4AfcqFrhOt2",
        "outputId": "35016fca-9718-4a16-8c3d-95b220131984"
      },
      "execution_count": 1,
      "outputs": [
        {
          "output_type": "execute_result",
          "data": {
            "text/plain": [
              "[1, 2, 3, 4, 10]"
            ]
          },
          "metadata": {},
          "execution_count": 1
        }
      ]
    },
    {
      "cell_type": "markdown",
      "source": [
        "Q8.Write a code to remove the number 3 from the list [1, 2, 3, 4, 5]?"
      ],
      "metadata": {
        "id": "vgh9wj_nikzP"
      }
    },
    {
      "cell_type": "code",
      "source": [
        "l=[1,2,3,4,5]\n",
        "l.remove(3)\n",
        "l"
      ],
      "metadata": {
        "colab": {
          "base_uri": "https://localhost:8080/"
        },
        "id": "JtkNF-u9iu_8",
        "outputId": "c21a536b-cd63-4f08-da1e-fd84a05be2c2"
      },
      "execution_count": 2,
      "outputs": [
        {
          "output_type": "execute_result",
          "data": {
            "text/plain": [
              "[1, 2, 4, 5]"
            ]
          },
          "metadata": {},
          "execution_count": 2
        }
      ]
    },
    {
      "cell_type": "markdown",
      "source": [
        "Q9.Write a code to access the second element in the list ['a', 'b', 'c', 'd']?"
      ],
      "metadata": {
        "id": "NJIdn90njBry"
      }
    },
    {
      "cell_type": "code",
      "source": [
        "l=[\"a\",\"b\",\"c\",\"d\"]\n",
        "l[1]"
      ],
      "metadata": {
        "colab": {
          "base_uri": "https://localhost:8080/",
          "height": 36
        },
        "id": "H1cx6ULTi8Eq",
        "outputId": "86a17c55-bc5d-43a7-d51c-b98af0e1bcb5"
      },
      "execution_count": 3,
      "outputs": [
        {
          "output_type": "execute_result",
          "data": {
            "text/plain": [
              "'b'"
            ],
            "application/vnd.google.colaboratory.intrinsic+json": {
              "type": "string"
            }
          },
          "metadata": {},
          "execution_count": 3
        }
      ]
    },
    {
      "cell_type": "markdown",
      "source": [
        "Q10.Write a code to reverse the list [10, 20, 30, 40, 50]?"
      ],
      "metadata": {
        "id": "nMuqxdeAjb8X"
      }
    },
    {
      "cell_type": "code",
      "source": [
        "l=[10,20,30,40,50]\n",
        "l.reverse()\n",
        "l"
      ],
      "metadata": {
        "colab": {
          "base_uri": "https://localhost:8080/"
        },
        "id": "ulA-6KS3jnmz",
        "outputId": "1d2dea32-05d0-46e3-e5b1-e2e3207d68e3"
      },
      "execution_count": 5,
      "outputs": [
        {
          "output_type": "execute_result",
          "data": {
            "text/plain": [
              "[50, 40, 30, 20, 10]"
            ]
          },
          "metadata": {},
          "execution_count": 5
        }
      ]
    },
    {
      "cell_type": "markdown",
      "source": [
        "Q11.Write a code to create a tuple with the elements 100, 200, 300 and print it?"
      ],
      "metadata": {
        "id": "AUyAHT1alAIj"
      }
    },
    {
      "cell_type": "code",
      "source": [
        "t=(100,200,300)\n",
        "type(t)"
      ],
      "metadata": {
        "colab": {
          "base_uri": "https://localhost:8080/"
        },
        "id": "3rbDBTFrlL6C",
        "outputId": "ff052897-d3ed-49ca-cdf0-589536e4c6dd"
      },
      "execution_count": 6,
      "outputs": [
        {
          "output_type": "execute_result",
          "data": {
            "text/plain": [
              "tuple"
            ]
          },
          "metadata": {},
          "execution_count": 6
        }
      ]
    },
    {
      "cell_type": "markdown",
      "source": [
        "Q12.Write a code to access the second-to-last element of the tuple ('red', 'green', 'blue', 'yellow')?"
      ],
      "metadata": {
        "id": "kbVTXd4BlU5a"
      }
    },
    {
      "cell_type": "code",
      "source": [
        "t= ('red', 'green', 'blue', 'yellow')\n",
        "t[-2]"
      ],
      "metadata": {
        "colab": {
          "base_uri": "https://localhost:8080/",
          "height": 36
        },
        "id": "sd-E5ax6lcV8",
        "outputId": "7a28f423-b81a-4f82-fed4-fc83e1f655df"
      },
      "execution_count": 7,
      "outputs": [
        {
          "output_type": "execute_result",
          "data": {
            "text/plain": [
              "'blue'"
            ],
            "application/vnd.google.colaboratory.intrinsic+json": {
              "type": "string"
            }
          },
          "metadata": {},
          "execution_count": 7
        }
      ]
    },
    {
      "cell_type": "markdown",
      "source": [
        "Q13.Write a code to find the minimum number in the tuple (10, 20, 5, 15)?"
      ],
      "metadata": {
        "id": "s34Mg-WtqwSK"
      }
    },
    {
      "cell_type": "code",
      "source": [
        "t=(10, 20, 5, 15)\n",
        "min(t)"
      ],
      "metadata": {
        "colab": {
          "base_uri": "https://localhost:8080/"
        },
        "id": "0NaINI99q8wT",
        "outputId": "c2f64f79-5e1f-4a69-c1bb-d84e054e8bdf"
      },
      "execution_count": 8,
      "outputs": [
        {
          "output_type": "execute_result",
          "data": {
            "text/plain": [
              "5"
            ]
          },
          "metadata": {},
          "execution_count": 8
        }
      ]
    },
    {
      "cell_type": "markdown",
      "source": [
        "Q14.Write a code to find the index of the element \"cat\" in the tuple ('dog', 'cat', 'rabbit')?"
      ],
      "metadata": {
        "id": "YZP6wBKZrC6_"
      }
    },
    {
      "cell_type": "code",
      "source": [
        "t=('dog', 'cat', 'rabbit')\n",
        "t.index('cat')"
      ],
      "metadata": {
        "colab": {
          "base_uri": "https://localhost:8080/"
        },
        "id": "wyHt-iR9rJfE",
        "outputId": "1e839e38-95fb-44db-dcfa-339b004d5a4c"
      },
      "execution_count": 9,
      "outputs": [
        {
          "output_type": "execute_result",
          "data": {
            "text/plain": [
              "1"
            ]
          },
          "metadata": {},
          "execution_count": 9
        }
      ]
    },
    {
      "cell_type": "markdown",
      "source": [
        " Q15.Write a code to create a tuple containing three different fruits and check if \"kiwi\" is in it?"
      ],
      "metadata": {
        "id": "SgkuviknrXsu"
      }
    },
    {
      "cell_type": "code",
      "source": [
        "t=('Banana' , 'Apple' , 'kiwi')\n",
        "'kiwi' in t"
      ],
      "metadata": {
        "colab": {
          "base_uri": "https://localhost:8080/"
        },
        "id": "FZpWXOazry3I",
        "outputId": "da1888d4-ad04-48bb-a893-d6e8bfdc96c5"
      },
      "execution_count": 10,
      "outputs": [
        {
          "output_type": "execute_result",
          "data": {
            "text/plain": [
              "True"
            ]
          },
          "metadata": {},
          "execution_count": 10
        }
      ]
    },
    {
      "cell_type": "markdown",
      "source": [
        "Q16.Write a code to create a set with the elements 'a', 'b', 'c' and print it?"
      ],
      "metadata": {
        "id": "fiTpmBq5r2fM"
      }
    },
    {
      "cell_type": "code",
      "source": [
        "s={\"a\",\"b\",\"c\"}\n",
        "s"
      ],
      "metadata": {
        "colab": {
          "base_uri": "https://localhost:8080/"
        },
        "id": "Pq0Sp451r8BW",
        "outputId": "3db558ae-cb51-40e3-8230-2ed30ea6a836"
      },
      "execution_count": 11,
      "outputs": [
        {
          "output_type": "execute_result",
          "data": {
            "text/plain": [
              "{'a', 'b', 'c'}"
            ]
          },
          "metadata": {},
          "execution_count": 11
        }
      ]
    },
    {
      "cell_type": "markdown",
      "source": [
        "Q17.Write a code to clear all elements from the set {1, 2, 3, 4, 5}."
      ],
      "metadata": {
        "id": "JqkSPK5FsD1s"
      }
    },
    {
      "cell_type": "code",
      "source": [
        "s={1, 2, 3, 4, 5}\n",
        "s.clear()\n",
        "s"
      ],
      "metadata": {
        "colab": {
          "base_uri": "https://localhost:8080/"
        },
        "id": "D_tPmp0ssJzw",
        "outputId": "5e3edf40-c481-42fe-9164-f627f041931f"
      },
      "execution_count": 12,
      "outputs": [
        {
          "output_type": "execute_result",
          "data": {
            "text/plain": [
              "set()"
            ]
          },
          "metadata": {},
          "execution_count": 12
        }
      ]
    },
    {
      "cell_type": "markdown",
      "source": [
        "Q18.Write a code to remove the element 4 from the set {1, 2, 3, 4}."
      ],
      "metadata": {
        "id": "3NlqLUvGsdim"
      }
    },
    {
      "cell_type": "code",
      "source": [
        "s={1, 2, 3, 4}\n",
        "s.remove(4)\n",
        "s"
      ],
      "metadata": {
        "colab": {
          "base_uri": "https://localhost:8080/"
        },
        "id": "AqUa0wIIsh40",
        "outputId": "57d502bc-f469-47d1-b024-745d7b962d15"
      },
      "execution_count": 14,
      "outputs": [
        {
          "output_type": "execute_result",
          "data": {
            "text/plain": [
              "{1, 2, 3}"
            ]
          },
          "metadata": {},
          "execution_count": 14
        }
      ]
    },
    {
      "cell_type": "markdown",
      "source": [
        "Q19.Write a code to find the union of two sets {1, 2, 3} and {3, 4, 5}."
      ],
      "metadata": {
        "id": "5afU7B_ZszDh"
      }
    },
    {
      "cell_type": "code",
      "source": [
        "s={1,2,3}\n",
        "s1={3,4,5}\n",
        "s|s1"
      ],
      "metadata": {
        "colab": {
          "base_uri": "https://localhost:8080/"
        },
        "id": "A61A6oces3U3",
        "outputId": "dbac718f-0695-4497-bd62-44be81b6eacc"
      },
      "execution_count": 15,
      "outputs": [
        {
          "output_type": "execute_result",
          "data": {
            "text/plain": [
              "{1, 2, 3, 4, 5}"
            ]
          },
          "metadata": {},
          "execution_count": 15
        }
      ]
    },
    {
      "cell_type": "markdown",
      "source": [
        "Q20. Write a code to find the intersection of two sets {1, 2, 3} and {2, 3, 4}"
      ],
      "metadata": {
        "id": "4h2Om5rRtHtE"
      }
    },
    {
      "cell_type": "code",
      "source": [
        "s={1,2,3}\n",
        "s1={3,4,5}\n",
        "s-s1"
      ],
      "metadata": {
        "colab": {
          "base_uri": "https://localhost:8080/"
        },
        "id": "u0wIoK4StL4D",
        "outputId": "c4b7e913-ebec-4dba-94c9-57b2269469f1"
      },
      "execution_count": 16,
      "outputs": [
        {
          "output_type": "execute_result",
          "data": {
            "text/plain": [
              "{1, 2}"
            ]
          },
          "metadata": {},
          "execution_count": 16
        }
      ]
    },
    {
      "cell_type": "markdown",
      "source": [
        "Q21.Write a code to create a dictionary with the keys \"name\", \"age\", and \"city\", and print it."
      ],
      "metadata": {
        "id": "mHL049UctSjn"
      }
    },
    {
      "cell_type": "code",
      "source": [
        "d={\"name\":\"Urvashi\" , \"age\":24 , \"city\":\"Aligarh\"}\n",
        "d"
      ],
      "metadata": {
        "colab": {
          "base_uri": "https://localhost:8080/"
        },
        "id": "vd0S-rTPtXWw",
        "outputId": "94c0e228-d3aa-4cb3-8681-fdd3e3327005"
      },
      "execution_count": 18,
      "outputs": [
        {
          "output_type": "execute_result",
          "data": {
            "text/plain": [
              "{'name': 'Urvashi', 'age': 24, 'city': 'Aligarh'}"
            ]
          },
          "metadata": {},
          "execution_count": 18
        }
      ]
    },
    {
      "cell_type": "markdown",
      "source": [
        "Q22.Write a code to add a new key-value pair \"country\": \"USA\" to the dictionary {'name': 'John', 'age': 25}"
      ],
      "metadata": {
        "id": "BqSA50xitmSa"
      }
    },
    {
      "cell_type": "code",
      "source": [
        "d={'name': 'John', 'age': 25}\n",
        "d.update({\"country\":\"USA\"})\n",
        "d"
      ],
      "metadata": {
        "colab": {
          "base_uri": "https://localhost:8080/"
        },
        "id": "VDnWN0FPtr1U",
        "outputId": "b69ad0d4-5f68-482e-f1e3-872790b6e671"
      },
      "execution_count": 19,
      "outputs": [
        {
          "output_type": "execute_result",
          "data": {
            "text/plain": [
              "{'name': 'John', 'age': 25, 'country': 'USA'}"
            ]
          },
          "metadata": {},
          "execution_count": 19
        }
      ]
    },
    {
      "cell_type": "markdown",
      "source": [
        "Q23.Write a code to access the value associated with the key \"name\" in the dictionary {'name': 'Alice', 'age': 30}."
      ],
      "metadata": {
        "id": "PDhCjkvAt-0r"
      }
    },
    {
      "cell_type": "code",
      "source": [
        "d={'name': 'Alice', 'age': 30}\n",
        "d['name']"
      ],
      "metadata": {
        "colab": {
          "base_uri": "https://localhost:8080/",
          "height": 36
        },
        "id": "jT2oqHHeuCtu",
        "outputId": "5530c59a-8d53-4817-c9b9-1ceeee7b5107"
      },
      "execution_count": 20,
      "outputs": [
        {
          "output_type": "execute_result",
          "data": {
            "text/plain": [
              "'Alice'"
            ],
            "application/vnd.google.colaboratory.intrinsic+json": {
              "type": "string"
            }
          },
          "metadata": {},
          "execution_count": 20
        }
      ]
    },
    {
      "cell_type": "markdown",
      "source": [
        "Q24.Write a code to remove the key \"age\" from the dictionary {'name': 'Bob', 'age': 22, 'city': 'New York'}"
      ],
      "metadata": {
        "id": "u1ZtoTIVuJWE"
      }
    },
    {
      "cell_type": "code",
      "source": [
        "d={'name': 'Bob', 'age': 22, 'city': 'New York'}\n",
        "d.pop(\"age\")\n",
        "d"
      ],
      "metadata": {
        "colab": {
          "base_uri": "https://localhost:8080/"
        },
        "id": "ex2de1nCuOQF",
        "outputId": "612dc306-6c26-45d7-9514-ec7622f82165"
      },
      "execution_count": 22,
      "outputs": [
        {
          "output_type": "execute_result",
          "data": {
            "text/plain": [
              "{'name': 'Bob', 'city': 'New York'}"
            ]
          },
          "metadata": {},
          "execution_count": 22
        }
      ]
    },
    {
      "cell_type": "markdown",
      "source": [
        "Q25.Write a code to check if the key \"city\" exists in the dictionary {'name': 'Alice', 'city': 'Paris'}"
      ],
      "metadata": {
        "id": "h8jSqa-nubSo"
      }
    },
    {
      "cell_type": "code",
      "source": [
        "d={'name': 'Alice', 'city': 'Paris'}\n",
        "\"city\" in d"
      ],
      "metadata": {
        "colab": {
          "base_uri": "https://localhost:8080/"
        },
        "id": "g6qKHhKHugFz",
        "outputId": "87e89d9d-d0bd-46e8-dd68-c50d65a574c0"
      },
      "execution_count": 23,
      "outputs": [
        {
          "output_type": "execute_result",
          "data": {
            "text/plain": [
              "True"
            ]
          },
          "metadata": {},
          "execution_count": 23
        }
      ]
    },
    {
      "cell_type": "markdown",
      "source": [
        "Q26.Write a code to create a list, a tuple, and a dictionary, and print them all."
      ],
      "metadata": {
        "id": "wFFJN5EJusJi"
      }
    },
    {
      "cell_type": "code",
      "source": [
        "l=[1,2,3,4]\n",
        "t=(1,2,3,4)\n",
        "d={\"name\":\"Urvashi\" , \"age\":24 , \"city\":\"Aligarh\"}\n",
        "print(l)\n",
        "print(t)\n",
        "print(d)"
      ],
      "metadata": {
        "colab": {
          "base_uri": "https://localhost:8080/"
        },
        "id": "4aOV0_5Au796",
        "outputId": "4ed0bf24-2e3f-4340-905e-e1e9a1155778"
      },
      "execution_count": 24,
      "outputs": [
        {
          "output_type": "stream",
          "name": "stdout",
          "text": [
            "[1, 2, 3, 4]\n",
            "(1, 2, 3, 4)\n",
            "{'name': 'Urvashi', 'age': 24, 'city': 'Aligarh'}\n"
          ]
        }
      ]
    },
    {
      "cell_type": "markdown",
      "source": [
        "Q27.. Write a code to create a list of 5 random numbers between 1 and 100, sort it in ascending order, and print the\n",
        "result.(replaced)"
      ],
      "metadata": {
        "id": "zmmsFajCu_9A"
      }
    },
    {
      "cell_type": "code",
      "source": [
        "l=[1,2,7,6,4,3,5,8,9,10]\n",
        "l.sort()\n",
        "l"
      ],
      "metadata": {
        "colab": {
          "base_uri": "https://localhost:8080/"
        },
        "id": "-lVXlQq4vIN7",
        "outputId": "cf785fac-8801-4ea2-c557-3c963388582b"
      },
      "execution_count": 27,
      "outputs": [
        {
          "output_type": "execute_result",
          "data": {
            "text/plain": [
              "[1, 2, 3, 4, 5, 6, 7, 8, 9, 10]"
            ]
          },
          "metadata": {},
          "execution_count": 27
        }
      ]
    },
    {
      "cell_type": "markdown",
      "source": [
        "Q28.. Write a code to create a list with strings and print the element at the third index."
      ],
      "metadata": {
        "id": "DHbLW0tevbqb"
      }
    },
    {
      "cell_type": "code",
      "source": [
        "l=[\"Urvashi\" , \"Varshney\" , \"Aligarh\"]\n",
        "l[2]"
      ],
      "metadata": {
        "colab": {
          "base_uri": "https://localhost:8080/",
          "height": 36
        },
        "id": "G1WMMTmNvgTx",
        "outputId": "ac104b48-541b-48c2-e7c4-b10a38f85092"
      },
      "execution_count": 28,
      "outputs": [
        {
          "output_type": "execute_result",
          "data": {
            "text/plain": [
              "'Aligarh'"
            ],
            "application/vnd.google.colaboratory.intrinsic+json": {
              "type": "string"
            }
          },
          "metadata": {},
          "execution_count": 28
        }
      ]
    },
    {
      "cell_type": "markdown",
      "source": [
        "Q29. Write a code to combine two dictionaries into one and print the result."
      ],
      "metadata": {
        "id": "is2bVKyovpD3"
      }
    },
    {
      "cell_type": "code",
      "source": [
        "d={\"name\":\"Urvashi\" , \"age\":24 , \"city\":\"Aligarh\"}\n",
        "d1={\"name1\":\"Urvashi\" , \"age1\":24 , \"city1\":\"Aligarh\"}\n",
        "d.update(d1)\n",
        "d"
      ],
      "metadata": {
        "colab": {
          "base_uri": "https://localhost:8080/"
        },
        "id": "Eye4KopMvtGE",
        "outputId": "cec17151-5d3a-43b9-9646-f4b2ad713082"
      },
      "execution_count": 30,
      "outputs": [
        {
          "output_type": "execute_result",
          "data": {
            "text/plain": [
              "{'name': 'Urvashi',\n",
              " 'age': 24,\n",
              " 'city': 'Aligarh',\n",
              " 'name1': 'Urvashi',\n",
              " 'age1': 24,\n",
              " 'city1': 'Aligarh'}"
            ]
          },
          "metadata": {},
          "execution_count": 30
        }
      ]
    },
    {
      "cell_type": "markdown",
      "source": [
        "Q30. Write a code to convert a list of strings into a set."
      ],
      "metadata": {
        "id": "I80xbLNiv4me"
      }
    },
    {
      "cell_type": "code",
      "source": [
        "l=[\"Urvashi\" , \"Varshney\" , \"Aligarh\"]\n",
        "s=set(l)\n",
        "s"
      ],
      "metadata": {
        "colab": {
          "base_uri": "https://localhost:8080/"
        },
        "id": "2AODJIrSwAXh",
        "outputId": "25499f89-ae1a-4184-a308-a588b04376c1"
      },
      "execution_count": 31,
      "outputs": [
        {
          "output_type": "execute_result",
          "data": {
            "text/plain": [
              "{'Aligarh', 'Urvashi', 'Varshney'}"
            ]
          },
          "metadata": {},
          "execution_count": 31
        }
      ]
    },
    {
      "cell_type": "markdown",
      "source": [],
      "metadata": {
        "id": "suJjOHSDtqKy"
      }
    },
    {
      "cell_type": "code",
      "source": [],
      "metadata": {
        "id": "RvlII8Hsv-HM"
      },
      "execution_count": null,
      "outputs": []
    },
    {
      "cell_type": "markdown",
      "source": [],
      "metadata": {
        "id": "f2Kfy9zerfft"
      }
    },
    {
      "cell_type": "markdown",
      "source": [],
      "metadata": {
        "id": "NDSCLYvQlABs"
      }
    },
    {
      "cell_type": "markdown",
      "source": [
        "Q11."
      ],
      "metadata": {
        "id": "unjFqKx5k-pM"
      }
    },
    {
      "cell_type": "markdown",
      "source": [
        "Q7."
      ],
      "metadata": {
        "id": "EwmrE8lbci7m"
      }
    },
    {
      "cell_type": "markdown",
      "source": [],
      "metadata": {
        "id": "FDtnyx6gI4AJ"
      }
    },
    {
      "cell_type": "markdown",
      "source": [],
      "metadata": {
        "id": "-XlZA_0kIsRo"
      }
    }
  ]
}